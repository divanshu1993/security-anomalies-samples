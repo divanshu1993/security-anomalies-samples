{
  "nbformat": 4,
  "nbformat_minor": 0,
  "metadata": {
    "colab": {
      "provenance": [],
      "include_colab_link": true
    },
    "kernelspec": {
      "name": "python3",
      "display_name": "Python 3"
    },
    "language_info": {
      "name": "python"
    }
  },
  "cells": [
    {
      "cell_type": "markdown",
      "metadata": {
        "id": "view-in-github",
        "colab_type": "text"
      },
      "source": [
        "<a href=\"https://colab.research.google.com/github/divanshu1993/security-anomalies-samples/blob/main/script_security_testing.ipynb\" target=\"_parent\"><img src=\"https://colab.research.google.com/assets/colab-badge.svg\" alt=\"Open In Colab\"/></a>"
      ]
    },
    {
      "cell_type": "markdown",
      "source": [
        "## **My First ML project**"
      ],
      "metadata": {
        "id": "zNuklwACNZo-"
      }
    },
    {
      "cell_type": "code",
      "source": [
        "import pandas as pd\n",
        "from sklearn.feature_extraction.text import TfidfVectorizer\n",
        "from sklearn.svm import SVC\n",
        "import joblib\n",
        "\n",
        "# Step 1: Load the CSV data\n",
        "data = pd.read_csv('https://raw.githubusercontent.com/divanshu1993/security-anomalies-samples/main/security%20anomalies%20threats%20samples.csv')\n",
        "\n",
        "# Step 2: Preprocess the data (if required)\n",
        "# For example, you may need to clean or normalize the text data\n",
        "\n",
        "# Step 3: Prepare the training data\n",
        "X_train = data['message'].str.lower().str.strip()\n",
        "y_train = data['status']\n",
        "\n",
        "# Step 4: Vectorize the training data\n",
        "vectorizer = TfidfVectorizer()\n",
        "X_train_vec = vectorizer.fit_transform(X_train)\n",
        "\n",
        "# Step 5: Train the SVM model\n",
        "svm = SVC()\n",
        "svm.fit(X_train_vec, y_train)\n",
        "\n",
        "# Step 6: Save the trained model and vectorizer for future use\n",
        "joblib.dump(svm, 'anomaly_detection_model.pkl')\n",
        "joblib.dump(vectorizer, 'vectorizer.pkl')"
      ],
      "metadata": {
        "id": "-tP6RwFomNj2",
        "colab": {
          "base_uri": "https://localhost:8080/"
        },
        "outputId": "cecc1727-404f-4894-a443-419ae5a468bf"
      },
      "execution_count": null,
      "outputs": [
        {
          "output_type": "execute_result",
          "data": {
            "text/plain": [
              "['vectorizer.pkl']"
            ]
          },
          "metadata": {},
          "execution_count": 11
        }
      ]
    },
    {
      "cell_type": "markdown",
      "source": [
        "## **Test My New Generated Model**"
      ],
      "metadata": {
        "id": "aFyLsP8aiji1"
      }
    },
    {
      "cell_type": "code",
      "source": [
        "# Step 1: Install required libraries\n",
        "!pip install scikit-learn\n",
        "\n",
        "# Step 2: Import the necessary libraries\n",
        "import pandas as pd\n",
        "from sklearn.feature_extraction.text import TfidfVectorizer\n",
        "from sklearn.metrics import accuracy_score, precision_score, recall_score, f1_score\n",
        "import joblib\n",
        "from sklearn.metrics import classification_report\n",
        "\n",
        "\n",
        "# Step 3: Load the trained model and vectorizer\n",
        "vectorizer = joblib.load('vectorizer.pkl')\n",
        "svm = joblib.load('anomaly_detection_model.pkl')\n",
        "\n",
        "# Step 4: Load and preprocess the test data\n",
        "log_data = pd.read_csv('https://raw.githubusercontent.com/divanshu1993/security-anomalies-samples/main/add_user_logs.csv')\n",
        "# Preprocessing steps (if required)\n",
        "\n",
        "# Step 5: Prepare the data for testing\n",
        "X_test = test_data['message'].str.lower().tolist()\n",
        "\n",
        "\n",
        "\n",
        "# Skip rows with null first name and last name\n",
        "print(\"len before data transformation:\", len(log_data))\n",
        "log_data = log_data[~(log_data['message'].astype(str).str.contains('First Name', case=False) & log_data['message'].astype(str).str.contains('null', case=False)) & ~(log_data['message'].astype(str).str.contains('Last Name', case=False) & log_data['message'].astype(str).str.contains('null', case=False))]\n",
        "print(\"len after data transformation:\", len(log_data))\n",
        "\n",
        "# Remove timestamp, [main], INFO, and file path from log messages\n",
        "cleaned_log_messages = []\n",
        "for log_message in log_messages:\n",
        "  cleaned_log_messages.append(log_message.split(\" - \")[1])\n",
        "\n",
        "\n",
        "# Step 6: Vectorize the new data using the loaded vectorizer\n",
        "X_new_vec = vectorizer.transform(cleaned_log_messages)\n",
        "\n",
        "# Step 7: Predict anomalies using the loaded model\n",
        "predictions = svm.predict(X_new_vec)\n",
        "\n",
        "\n",
        "# Step 8: Print the predictions\n",
        "print(\"Predictions:\", predictions)\n",
        "\n",
        "# Step 9: Calculate and print the F1-score\n",
        "true_labels = test_data['status']  # Replace 'true_label_column' with the actual column name of true labels\n",
        "print('labels : ', true_labels)\n",
        "report = classification_report(true_labels, predictions)\n",
        "print(\"Classification Report:\\n\", report)\n"
      ],
      "metadata": {
        "colab": {
          "base_uri": "https://localhost:8080/"
        },
        "id": "hDQiXwOXioDY",
        "outputId": "59771a0b-843b-4a37-d5d7-827e1e2c0953"
      },
      "execution_count": null,
      "outputs": [
        {
          "output_type": "stream",
          "name": "stdout",
          "text": [
            "Looking in indexes: https://pypi.org/simple, https://us-python.pkg.dev/colab-wheels/public/simple/\n",
            "Requirement already satisfied: scikit-learn in /usr/local/lib/python3.10/dist-packages (1.2.2)\n",
            "Requirement already satisfied: numpy>=1.17.3 in /usr/local/lib/python3.10/dist-packages (from scikit-learn) (1.22.4)\n",
            "Requirement already satisfied: scipy>=1.3.2 in /usr/local/lib/python3.10/dist-packages (from scikit-learn) (1.10.1)\n",
            "Requirement already satisfied: joblib>=1.1.1 in /usr/local/lib/python3.10/dist-packages (from scikit-learn) (1.2.0)\n",
            "Requirement already satisfied: threadpoolctl>=2.0.0 in /usr/local/lib/python3.10/dist-packages (from scikit-learn) (3.1.0)\n",
            "len before data transformation: 3609\n",
            "len after data transformation: 3609\n",
            "Predictions: ['anomaly' 'anomaly' 'anomaly' ... 'anomaly' 'anomaly' 'anomaly']\n",
            "labels :  0       normal\n",
            "1       normal\n",
            "2       normal\n",
            "3       normal\n",
            "4       normal\n",
            "         ...  \n",
            "4995    normal\n",
            "4996    normal\n",
            "4997    normal\n",
            "4998    normal\n",
            "4999    normal\n",
            "Name: status, Length: 5000, dtype: object\n"
          ]
        },
        {
          "output_type": "stream",
          "name": "stderr",
          "text": [
            "/usr/local/lib/python3.10/dist-packages/sklearn/metrics/_classification.py:1344: UndefinedMetricWarning: Precision and F-score are ill-defined and being set to 0.0 in labels with no predicted samples. Use `zero_division` parameter to control this behavior.\n",
            "  _warn_prf(average, modifier, msg_start, len(result))\n"
          ]
        },
        {
          "output_type": "stream",
          "name": "stdout",
          "text": [
            "Classification Report:\n",
            "               precision    recall  f1-score   support\n",
            "\n",
            "     anomaly       0.22      1.00      0.36      1087\n",
            "      normal       0.00      0.00      0.00      3913\n",
            "\n",
            "    accuracy                           0.22      5000\n",
            "   macro avg       0.11      0.50      0.18      5000\n",
            "weighted avg       0.05      0.22      0.08      5000\n",
            "\n"
          ]
        },
        {
          "output_type": "stream",
          "name": "stderr",
          "text": [
            "/usr/local/lib/python3.10/dist-packages/sklearn/metrics/_classification.py:1344: UndefinedMetricWarning: Precision and F-score are ill-defined and being set to 0.0 in labels with no predicted samples. Use `zero_division` parameter to control this behavior.\n",
            "  _warn_prf(average, modifier, msg_start, len(result))\n",
            "/usr/local/lib/python3.10/dist-packages/sklearn/metrics/_classification.py:1344: UndefinedMetricWarning: Precision and F-score are ill-defined and being set to 0.0 in labels with no predicted samples. Use `zero_division` parameter to control this behavior.\n",
            "  _warn_prf(average, modifier, msg_start, len(result))\n"
          ]
        }
      ]
    },
    {
      "cell_type": "markdown",
      "source": [
        "## Testing Add User Data with Isolation Forest algo "
      ],
      "metadata": {
        "id": "WxiZrfrGYAtp"
      }
    },
    {
      "cell_type": "code",
      "source": [
        "import pandas as pd\n",
        "import matplotlib.pyplot as plt\n",
        "from sklearn.feature_extraction.text import TfidfVectorizer\n",
        "from sklearn.ensemble import IsolationForest\n",
        "from sklearn.metrics import accuracy_score, precision_score, recall_score, f1_score\n",
        "\n",
        "# Step 4: Load and preprocess the test data\n",
        "log_data = pd.read_csv('https://raw.githubusercontent.com/divanshu1993/security-anomalies-samples/main/add_user_logs.csv')\n",
        "# Preprocessing steps (if required)\n",
        "\n",
        "# Preprocess the log data and extract the log messages\n",
        "log_messages = log_data['message'].tolist()\n",
        "true_labels = log_data['status'].tolist()\n",
        "\n",
        "# Skip rows with null first name and last name\n",
        "print(\"len before data transformation:\", len(log_data))\n",
        "log_data = log_data[~(log_data['message'].astype(str).str.contains('First Name', case=False) & log_data['message'].astype(str).str.contains('null', case=False)) & ~(log_data['message'].astype(str).str.contains('Last Name', case=False) & log_data['message'].astype(str).str.contains('null', case=False))]\n",
        "print(\"len after data transformation:\", len(log_data))\n",
        "\n",
        "# Remove timestamp, [main], INFO, and file path from log messages\n",
        "cleaned_log_messages = []\n",
        "for log_message in log_messages:\n",
        "    cleaned_message = re.sub(r'\\d{4}-\\d{2}-\\d{2} \\d{2}:\\d{2}:\\d{2}\\.\\d+|\\[\\w+\\]|INFO|-\\s?[\\/\\w]+', '', log_message)\n",
        "    cleaned_log_messages.append(cleaned_message.strip())\n",
        "\n",
        "# Convert log messages to TF-IDF vectors\n",
        "vectorizer = TfidfVectorizer()\n",
        "X = vectorizer.fit_transform(cleaned_log_messages)\n",
        "\n",
        "# Apply Isolation Forest for anomaly detection\n",
        "isolation_forest = IsolationForest(contamination=0.01)\n",
        "isolation_forest.fit(X)\n",
        "\n",
        "# Predict the anomaly scores for the log messages\n",
        "anomaly_scores = isolation_forest.decision_function(X)\n",
        "\n",
        "# Set a threshold for anomaly detection (you can adjust this as needed)\n",
        "threshold = 0\n",
        "\n",
        "# Determine the predicted labels (anomaly or normal)\n",
        "predicted_labels = [1 if score >= threshold else -1 for score in anomaly_scores]\n",
        "\n",
        "# Map true labels to numeric values (anomaly: -1, normal: 1)\n",
        "true_labels_numeric = [-1 if label == \"anomaly\" else 1 for label in true_labels]\n",
        "\n",
        "# Calculate evaluation metrics\n",
        "accuracy = accuracy_score(true_labels_numeric, predicted_labels)\n",
        "precision = precision_score(true_labels_numeric, predicted_labels, pos_label=-1)\n",
        "recall = recall_score(true_labels_numeric, predicted_labels, pos_label=-1)\n",
        "f1 = f1_score(true_labels_numeric, predicted_labels, pos_label=-1)\n",
        "\n",
        "# Plot the evaluation metrics\n",
        "metrics = ['Accuracy', 'Precision', 'Recall', 'F1 Score']\n",
        "scores = [accuracy, precision, recall, f1]\n",
        "\n",
        "# Define colors for each bar\n",
        "colors = ['blue', 'green', 'orange', 'red']\n",
        "\n",
        "print('accuracy: ', accuracy)\n",
        "print('precision: ', precision)\n",
        "print('recall: ', recall)\n",
        "print('f1 score: ', f1)\n",
        "\n",
        "plt.bar(metrics, scores, color=colors)\n",
        "plt.xlabel('Evaluation Metrics')\n",
        "plt.ylabel('Score')\n",
        "plt.title('Anomaly Detection Evaluation')\n",
        "plt.show()\n"
      ],
      "metadata": {
        "colab": {
          "base_uri": "https://localhost:8080/",
          "height": 579
        },
        "id": "ml8APTe3OhzT",
        "outputId": "231606b4-faeb-49d7-e79e-32c47267bfe3"
      },
      "execution_count": null,
      "outputs": [
        {
          "output_type": "stream",
          "name": "stdout",
          "text": [
            "len before data transformation: 38517\n",
            "len after data transformation: 28077\n",
            "accuracy:  0.7792662979982865\n",
            "precision:  0.6865284974093264\n",
            "recall:  0.0306500115660421\n",
            "f1 score:  0.05868024800708591\n"
          ]
        },
        {
          "output_type": "display_data",
          "data": {
            "text/plain": [
              "<Figure size 640x480 with 1 Axes>"
            ],
            "image/png": "[encoded data removed]"
          },
          "metadata": {}
        }
      ]
    },
    {
      "cell_type": "markdown",
      "source": [
        "## **Testing Add User Data with KNN algo to check prediction**"
      ],
      "metadata": {
        "id": "VyzgJMRedNGN"
      }
    },
    {
      "cell_type": "code",
      "source": [
        "!pip install pandas\n",
        "!pip install scikit-learn\n",
        "import pandas as pd\n",
        "import matplotlib.pyplot as plt\n",
        "from sklearn.feature_extraction.text import TfidfVectorizer\n",
        "from sklearn.neighbors import NearestNeighbors\n",
        "from sklearn.metrics import accuracy_score, precision_score, recall_score, f1_score\n",
        "\n",
        "# Step 4: Load and preprocess the test data\n",
        "log_data = pd.read_csv('https://raw.githubusercontent.com/divanshu1993/security-anomalies-samples/main/add_user_logs.csv')\n",
        "# Preprocessing steps (if required)\n",
        "\n",
        "# Preprocess the log data and extract the log messages\n",
        "log_messages = log_data['message'].tolist()\n",
        "true_labels = log_data['status'].tolist()\n",
        "\n",
        "# Skip rows with null first name and last name\n",
        "print(\"len before data transformation:\", len(log_data))\n",
        "log_data = log_data[~(log_data['message'].astype(str).str.contains('First Name', case=False) & log_data['message'].astype(str).str.contains('null', case=False)) & ~(log_data['message'].astype(str).str.contains('Last Name', case=False) & log_data['message'].astype(str).str.contains('null', case=False))]\n",
        "print(\"len after data transformation:\", len(log_data))\n",
        "\n",
        "# Remove timestamp, [main], INFO, and file path from log messages\n",
        "cleaned_log_messages = []\n",
        "for log_message in log_messages:\n",
        "    cleaned_message = re.sub(r'\\d{4}-\\d{2}-\\d{2} \\d{2}:\\d{2}:\\d{2}\\.\\d+|\\[\\w+\\]|INFO|-\\s?[\\/\\w]+', '', log_message)\n",
        "    cleaned_log_messages.append(cleaned_message.strip())\n",
        "\n",
        "# Convert log messages to TF-IDF vectors\n",
        "vectorizer = TfidfVectorizer()\n",
        "X = vectorizer.fit_transform(cleaned_log_messages)\n",
        "\n",
        "# Apply KNN for anomaly detection\n",
        "k = 5  # Number of neighbors to consider\n",
        "knn = NearestNeighbors(n_neighbors=k)\n",
        "knn.fit(X)\n",
        "\n",
        "# Find the k nearest neighbors for each log message\n",
        "distances, indices = knn.kneighbors(X)\n",
        "\n",
        "# Set a threshold for anomaly detection (you can adjust this as needed)\n",
        "threshold = 0\n",
        "\n",
        "# Determine the predicted labels (anomaly or normal)\n",
        "predicted_labels = [-1 if max(distances[i]) >= threshold else 1 for i in range(len(distances))]\n",
        "\n",
        "# Map true labels to numeric values (anomaly: -1, normal: 1)\n",
        "true_labels_numeric = [-1 if label == \"anomaly\" else 1 for label in true_labels]\n",
        "\n",
        "# Calculate evaluation metrics\n",
        "accuracy = accuracy_score(true_labels_numeric, predicted_labels)\n",
        "precision = precision_score(true_labels_numeric, predicted_labels, pos_label=-1)\n",
        "recall = recall_score(true_labels_numeric, predicted_labels, pos_label=-1)\n",
        "f1 = f1_score(true_labels_numeric, predicted_labels, pos_label=-1)\n",
        "\n",
        "# Plot the evaluation metrics\n",
        "metrics = ['Accuracy', 'Precision', 'Recall', 'F1 Score']\n",
        "scores = [accuracy, precision, recall, f1]\n",
        "\n",
        "\n",
        "print('accuracy: ', accuracy)\n",
        "print('precision: ', precision)\n",
        "print('recall: ', recall)\n",
        "print('f1 score: ', f1)\n",
        "\n",
        "\n",
        "\n",
        "plt.plot(metrics, scores, marker='o')\n",
        "plt.xlabel('Evaluation Metrics')\n",
        "plt.ylabel('Score')\n",
        "plt.title('Anomaly Detection Evaluation')\n",
        "plt.show()\n"
      ],
      "metadata": {
        "colab": {
          "base_uri": "https://localhost:8080/",
          "height": 813
        },
        "id": "Ka71PczidNr-",
        "outputId": "0342c134-0120-4050-b513-d8d149bd856a"
      },
      "execution_count": null,
      "outputs": [
        {
          "output_type": "stream",
          "name": "stdout",
          "text": [
            "Looking in indexes: https://pypi.org/simple, https://us-python.pkg.dev/colab-wheels/public/simple/\n",
            "Requirement already satisfied: pandas in /usr/local/lib/python3.10/dist-packages (1.5.3)\n",
            "Requirement already satisfied: python-dateutil>=2.8.1 in /usr/local/lib/python3.10/dist-packages (from pandas) (2.8.2)\n",
            "Requirement already satisfied: pytz>=2020.1 in /usr/local/lib/python3.10/dist-packages (from pandas) (2022.7.1)\n",
            "Requirement already satisfied: numpy>=1.21.0 in /usr/local/lib/python3.10/dist-packages (from pandas) (1.22.4)\n",
            "Requirement already satisfied: six>=1.5 in /usr/local/lib/python3.10/dist-packages (from python-dateutil>=2.8.1->pandas) (1.16.0)\n",
            "Looking in indexes: https://pypi.org/simple, https://us-python.pkg.dev/colab-wheels/public/simple/\n",
            "Requirement already satisfied: scikit-learn in /usr/local/lib/python3.10/dist-packages (1.2.2)\n",
            "Requirement already satisfied: numpy>=1.17.3 in /usr/local/lib/python3.10/dist-packages (from scikit-learn) (1.22.4)\n",
            "Requirement already satisfied: scipy>=1.3.2 in /usr/local/lib/python3.10/dist-packages (from scikit-learn) (1.10.1)\n",
            "Requirement already satisfied: joblib>=1.1.1 in /usr/local/lib/python3.10/dist-packages (from scikit-learn) (1.2.0)\n",
            "Requirement already satisfied: threadpoolctl>=2.0.0 in /usr/local/lib/python3.10/dist-packages (from scikit-learn) (3.1.0)\n",
            "len before data transformation: 38517\n",
            "len after data transformation: 28077\n",
            "accuracy:  0.22447231092764233\n",
            "precision:  0.22447231092764233\n",
            "recall:  1.0\n",
            "f1 score:  0.36664334329877235\n"
          ]
        },
        {
          "output_type": "display_data",
          "data": {
            "text/plain": [
              "<Figure size 640x480 with 1 Axes>"
            ],
            "image/png": "[encoded data removed]"
          },
          "metadata": {}
        }
      ]
    },
    {
      "cell_type": "markdown",
      "source": [
        "Testing Add User with One CLass SVM algo "
      ],
      "metadata": {
        "id": "csTyhrGOf5vR"
      }
    },
    {
      "cell_type": "code",
      "source": [
        "import pandas as pd\n",
        "import matplotlib.pyplot as plt\n",
        "import numpy as np\n",
        "from sklearn.feature_extraction.text import TfidfVectorizer\n",
        "from sklearn.svm import OneClassSVM\n",
        "from sklearn.metrics import accuracy_score, precision_score, recall_score, f1_score\n",
        "\n",
        "# Step 1: Load and preprocess the test data\n",
        "log_data = pd.read_csv('https://raw.githubusercontent.com/divanshu1993/security-anomalies-samples/main/add_user_logs.csv')\n",
        "\n",
        "# Preprocess the log data and extract the log messages and status\n",
        "log_messages = log_data['message'].tolist()\n",
        "status = log_data['status'].tolist()\n",
        "\n",
        "# Skip rows with null first name and last name\n",
        "print(\"len before data transformation:\", len(log_data))\n",
        "log_data = log_data[~(log_data['message'].astype(str).str.contains('First Name', case=False) & log_data['message'].astype(str).str.contains('null', case=False)) & ~(log_data['message'].astype(str).str.contains('Last Name', case=False) & log_data['message'].astype(str).str.contains('null', case=False))]\n",
        "print(\"len after data transformation:\", len(log_data))\n",
        "\n",
        "# Remove timestamp, [main], INFO, and file path from log messages\n",
        "cleaned_log_messages = []\n",
        "for log_message in log_messages:\n",
        "    cleaned_message = re.sub(r'\\d{4}-\\d{2}-\\d{2} \\d{2}:\\d{2}:\\d{2}\\.\\d+|\\[\\w+\\]|INFO|-\\s?[\\/\\w]+', '', log_message)\n",
        "    cleaned_log_messages.append(cleaned_message.strip())\n",
        "\n",
        "# Convert log messages to TF-IDF vectors\n",
        "vectorizer = TfidfVectorizer()\n",
        "X = vectorizer.fit_transform(cleaned_log_messages)\n",
        "\n",
        "# Apply One-Class SVM for anomaly detection\n",
        "svm = OneClassSVM(nu=0.01)\n",
        "svm.fit(X)\n",
        "\n",
        "# Predict the anomaly scores for the log messages\n",
        "anomaly_scores = svm.decision_function(X)\n",
        "\n",
        "# Set a threshold for anomaly detection (you can adjust this as needed)\n",
        "threshold = 0\n",
        "\n",
        "# Determine the predicted labels (anomaly or normal)\n",
        "predicted_labels = [1 if score >= threshold else -1 for score in anomaly_scores]\n",
        "\n",
        "# Convert the status column to labels (-1 for anomaly, 1 for normal)\n",
        "ground_truth_labels = [-1 if s == 'anomaly' else 1 for s in status]\n",
        "\n",
        "# Calculate evaluation metrics\n",
        "accuracy = accuracy_score(ground_truth_labels, predicted_labels)\n",
        "precision = precision_score(ground_truth_labels, predicted_labels, pos_label=-1)\n",
        "recall = recall_score(ground_truth_labels, predicted_labels, pos_label=-1)\n",
        "f1 = f1_score(ground_truth_labels, predicted_labels, pos_label=-1)\n",
        "\n",
        "# Create a list of labels and scores\n",
        "labels = ['Accuracy', 'Precision', 'Recall', 'F1 Score']\n",
        "scores = [accuracy, precision, recall, f1]\n",
        "\n",
        "# Generate colors for the bars\n",
        "colors = ['blue', 'green', 'orange', 'red']\n",
        "\n",
        "# Create a bar chart\n",
        "plt.bar(labels, scores, color=colors)\n",
        "plt.xlabel('Metrics')\n",
        "plt.ylabel('Scores')\n",
        "plt.title('Anomaly Detection Evaluation')\n",
        "\n",
        "# Display the bar chart\n",
        "plt.show()\n",
        "\n",
        "\n",
        "print('accuracy: ', accuracy)\n",
        "print('precision: ', precision)\n",
        "print('recall: ', recall)\n",
        "print('f1 score: ', f1)\n"
      ],
      "metadata": {
        "colab": {
          "base_uri": "https://localhost:8080/",
          "height": 579
        },
        "id": "GWtLit_If57o",
        "outputId": "987f2b9b-d101-40b3-bf03-eb20deaefafe"
      },
      "execution_count": null,
      "outputs": [
        {
          "output_type": "stream",
          "name": "stdout",
          "text": [
            "len before data transformation: 38517\n",
            "len after data transformation: 28077\n"
          ]
        },
        {
          "output_type": "display_data",
          "data": {
            "text/plain": [
              "<Figure size 640x480 with 1 Axes>"
            ],
            "image/png": "[encoded data removed]"
          },
          "metadata": {}
        },
        {
          "output_type": "stream",
          "name": "stdout",
          "text": [
            "accuracy:  0.7419580964249552\n",
            "precision:  0.0030745580322828594\n",
            "recall:  0.0004626416840157298\n",
            "f1 score:  0.000804262591736202\n"
          ]
        }
      ]
    },
    {
      "cell_type": "markdown",
      "source": [
        "Testing Add User with K Mean Clustering algo "
      ],
      "metadata": {
        "id": "ZsbJrEQniq0Z"
      }
    },
    {
      "cell_type": "code",
      "source": [
        "import pandas as pd\n",
        "import matplotlib.pyplot as plt\n",
        "from sklearn.feature_extraction.text import TfidfVectorizer\n",
        "from sklearn.cluster import KMeans\n",
        "from sklearn.metrics import accuracy_score, precision_score, recall_score, f1_score\n",
        "import re\n",
        "\n",
        "# Step 4: Load and preprocess the test data\n",
        "log_data = pd.read_csv('https://raw.githubusercontent.com/divanshu1993/security-anomalies-samples/main/add_user_logs.csv')\n",
        "\n",
        "# Extract the log messages and status from the log_data DataFrame\n",
        "log_messages = log_data['message'].tolist()\n",
        "status_labels = log_data['status'].tolist()\n",
        "\n",
        "# Skip rows with null first name and last name\n",
        "print(\"len before data transformation:\", len(log_data))\n",
        "log_data = log_data[~(log_data['message'].astype(str).str.contains('First Name', case=False) & log_data['message'].astype(str).str.contains('null', case=False)) & ~(log_data['message'].astype(str).str.contains('Last Name', case=False) & log_data['message'].astype(str).str.contains('null', case=False))]\n",
        "print(\"len after data transformation:\", len(log_data))\n",
        "\n",
        "# Remove timestamp, [main], INFO, and file path from log messages\n",
        "cleaned_log_messages = []\n",
        "for log_message in log_messages:\n",
        "    cleaned_message = re.sub(r'\\d{4}-\\d{2}-\\d{2} \\d{2}:\\d{2}:\\d{2}\\.\\d+|\\[\\w+\\]|INFO|-\\s?[\\/\\w]+', '', log_message)\n",
        "    cleaned_log_messages.append(cleaned_message.strip())\n",
        "\n",
        "# Convert log messages to TF-IDF vectors\n",
        "vectorizer = TfidfVectorizer()\n",
        "X = vectorizer.fit_transform(cleaned_log_messages)\n",
        "\n",
        "# Apply K-means clustering for anomaly detection\n",
        "kmeans = KMeans(n_clusters=2)  # Assuming 2 clusters, one for normal data and one for anomalies\n",
        "kmeans.fit(X)\n",
        "\n",
        "# Get the cluster labels for the log messages\n",
        "cluster_labels = kmeans.labels_\n",
        "\n",
        "# Map the status labels to the cluster labels\n",
        "status_mapping = {status: label for status, label in zip(status_labels, cluster_labels)}\n",
        "\n",
        "# Determine the predicted labels (anomaly or normal)\n",
        "predicted_labels = [-1 if status == 'anomaly' else 1 for status in status_labels]\n",
        "\n",
        "# Assume all log messages are normal\n",
        "ground_truth_labels = [1] * len(cleaned_log_messages)\n",
        "\n",
        "# Calculate evaluation metrics\n",
        "accuracy = accuracy_score(ground_truth_labels, predicted_labels)\n",
        "precision = precision_score(ground_truth_labels, predicted_labels, pos_label=-1)\n",
        "recall = recall_score(ground_truth_labels, predicted_labels, pos_label=-1)\n",
        "f1 = f1_score(ground_truth_labels, predicted_labels, pos_label=-1)\n",
        "\n",
        "# Create a list of labels and scores\n",
        "labels = ['Accuracy', 'Precision', 'Recall', 'F1 Score']\n",
        "scores = [accuracy, precision, recall, f1]\n",
        "\n",
        "# Create an area chart\n",
        "plt.stackplot(labels, scores, labels=labels)\n",
        "plt.xlabel('Metrics')\n",
        "plt.ylabel('Scores')\n",
        "plt.title('Anomaly Detection Evaluation')\n",
        "plt.legend()\n",
        "\n",
        "# Display the area chart\n",
        "plt.show()\n",
        "\n",
        "\n",
        "\n",
        "print('accuracy: ', accuracy)\n",
        "print('precision: ', precision)\n",
        "print('recall: ', recall)\n",
        "print('f1 score: ', f1)\n"
      ],
      "metadata": {
        "colab": {
          "base_uri": "https://localhost:8080/",
          "height": 599
        },
        "id": "I3785QBdirDM",
        "outputId": "02661183-a8b4-4abd-dd2d-f6fbc485eada"
      },
      "execution_count": null,
      "outputs": [
        {
          "output_type": "stream",
          "name": "stdout",
          "text": [
            "len before data transformation: 20000\n",
            "len after data transformation: 14546\n"
          ]
        },
        {
          "output_type": "stream",
          "name": "stderr",
          "text": [
            "/usr/local/lib/python3.10/dist-packages/sklearn/cluster/_kmeans.py:870: FutureWarning: The default value of `n_init` will change from 10 to 'auto' in 1.4. Set the value of `n_init` explicitly to suppress the warning\n",
            "  warnings.warn(\n",
            "/usr/local/lib/python3.10/dist-packages/sklearn/metrics/_classification.py:1344: UndefinedMetricWarning: Recall is ill-defined and being set to 0.0 due to no true samples. Use `zero_division` parameter to control this behavior.\n",
            "  _warn_prf(average, modifier, msg_start, len(result))\n"
          ]
        },
        {
          "output_type": "display_data",
          "data": {
            "text/plain": [
              "<Figure size 640x480 with 1 Axes>"
            ],
            "image/png": "[encoded data removed]"
          },
          "metadata": {}
        }
      ]
    },
    {
      "cell_type": "markdown",
      "source": [
        "## **Generate Fake content for add users**"
      ],
      "metadata": {
        "id": "VVfaoSb4YXqV"
      }
    },
    {
      "cell_type": "code",
      "source": [
        "!pip install faker\n",
        "import csv\n",
        "from faker import Faker\n",
        "import random\n",
        "\n",
        "fake = Faker('en_IN')\n",
        "\n",
        "# Open the CSV file in write mode\n",
        "with open('add_user_logs.csv', mode='w', newline='') as file:\n",
        "    writer = csv.writer(file)\n",
        "    writer.writerow([\"message\", \"status\"])  # Add the \"status\" column header\n",
        "    for _ in range(38517):\n",
        "        date_time = fake.date_time_this_year()\n",
        "        # Generate empty first name for some entries\n",
        "        if random.random() <= 0.1:  # Adjust the probability as needed\n",
        "            first_name = 'null'\n",
        "        else:\n",
        "            first_name = fake.first_name()\n",
        "        \n",
        "        # Generate last name with <script></script> tags for some entries\n",
        "        if random.random() <= 0.1:  # Adjust the probability as needed\n",
        "            last_name = 'null'\n",
        "        elif random.random() <= 0.2:  # Adjust the probability as needed\n",
        "            last_name = 'CONNECT 172.65.27.22 HOME'\n",
        "        elif random.random() <= 0.1:  # Adjust the probability as needed\n",
        "            last_name = '<IMG src=\"..\"/>'\n",
        "        else:\n",
        "            last_name = fake.last_name()\n",
        "\n",
        "        if random.random() <= 0.1:  # Adjust the probability as needed\n",
        "            last_name = 'null'\n",
        "            first_name = 'null'\n",
        "\n",
        "\n",
        "        email = fake.email()\n",
        "        age = fake.random_int(min=18, max=70)\n",
        "        log_entry = f\"{date_time} [main] INFO com.example.UserService - Adding a new user: First Name={first_name}, Last Name={last_name}, Email={email}, Age={age}\"\n",
        "        \n",
        "        # Determine the status based on the conditions\n",
        "        if \"<IMG\" in last_name or \"CONNECT\" in last_name:\n",
        "            status = \"anomaly\"\n",
        "        else:\n",
        "            status = \"normal\"\n",
        "        \n",
        "        # Write the log entry and status as a row in the CSV file\n",
        "        writer.writerow([log_entry, status])\n",
        "\n",
        "# Print a message to indicate that the CSV file has been generated\n",
        "print(\"CSV file generated successfully!\")\n"
      ],
      "metadata": {
        "colab": {
          "base_uri": "https://localhost:8080/"
        },
        "id": "WTzPcKzDF7h3",
        "outputId": "43f8db8b-b9ca-42eb-b370-b2dd3c7494ff"
      },
      "execution_count": null,
      "outputs": [
        {
          "output_type": "stream",
          "name": "stdout",
          "text": [
            "Looking in indexes: https://pypi.org/simple, https://us-python.pkg.dev/colab-wheels/public/simple/\n",
            "Requirement already satisfied: faker in /usr/local/lib/python3.10/dist-packages (18.9.0)\n",
            "Requirement already satisfied: python-dateutil>=2.4 in /usr/local/lib/python3.10/dist-packages (from faker) (2.8.2)\n",
            "Requirement already satisfied: six>=1.5 in /usr/local/lib/python3.10/dist-packages (from python-dateutil>=2.4->faker) (1.16.0)\n",
            "CSV file generated successfully!\n"
          ]
        }
      ]
    },
    {
      "cell_type": "code",
      "source": [
        "!pip install faker\n",
        "import csv\n",
        "from faker import Faker\n",
        "import random\n",
        "\n",
        "fake = Faker('en_IN')\n",
        "\n",
        "# Open the CSV file in write mode\n",
        "with open('normal.csv', mode='w', newline='') as file:\n",
        "    writer = csv.writer(file)\n",
        "    writer.writerow([\"message\", \"status\"])  # Add the \"status\" column header\n",
        "    for _ in range(30161):\n",
        "        date_time = fake.date_time_this_year()\n",
        "        # Generate empty first name for some entries\n",
        "        if random.random() <= 0.1:  # Adjust the probability as needed\n",
        "            first_name = 'null'\n",
        "        else:\n",
        "            first_name = fake.first_name()\n",
        "        \n",
        "        # Generate last name with <script></script> tags for some entries\n",
        "        if random.random() <= 0.1:  # Adjust the probability as needed\n",
        "            last_name = 'null'\n",
        "        else:\n",
        "            last_name = fake.last_name()\n",
        "\n",
        "        if random.random() <= 0.1:  # Adjust the probability as needed\n",
        "            last_name = 'null'\n",
        "            first_name = 'null'\n",
        "\n",
        "\n",
        "        email = fake.email()\n",
        "        age = fake.random_int(min=18, max=70)\n",
        "        log_entry = f\"{date_time} [main] INFO com.example.UserService - Adding a new user: First Name={first_name}, Last Name={last_name}, Email={email}, Age={age}\"\n",
        "        \n",
        "        # Determine the status based on the conditions\n",
        "        if \"<IMG\" in last_name or \"CONNECT\" in last_name:\n",
        "            status = \"anomaly\"\n",
        "        else:\n",
        "            status = \"normal\"\n",
        "        \n",
        "        # Write the log entry and status as a row in the CSV file\n",
        "        writer.writerow([log_entry, status])\n",
        "\n",
        "# Print a message to indicate that the CSV file has been generated\n",
        "print(\"CSV file generated successfully!\")\n"
      ],
      "metadata": {
        "colab": {
          "base_uri": "https://localhost:8080/"
        },
        "id": "ErVzBZmhNlRh",
        "outputId": "6d1bd88a-d290-4b67-f076-f843345bc483"
      },
      "execution_count": 22,
      "outputs": [
        {
          "output_type": "stream",
          "name": "stdout",
          "text": [
            "Looking in indexes: https://pypi.org/simple, https://us-python.pkg.dev/colab-wheels/public/simple/\n",
            "Requirement already satisfied: faker in /usr/local/lib/python3.10/dist-packages (18.10.1)\n",
            "Requirement already satisfied: python-dateutil>=2.4 in /usr/local/lib/python3.10/dist-packages (from faker) (2.8.2)\n",
            "Requirement already satisfied: six>=1.5 in /usr/local/lib/python3.10/dist-packages (from python-dateutil>=2.4->faker) (1.16.0)\n",
            "CSV file generated successfully!\n"
          ]
        }
      ]
    },
    {
      "cell_type": "markdown",
      "source": [
        "## **Test 1**"
      ],
      "metadata": {
        "id": "Qsli5IwG5JSR"
      }
    },
    {
      "cell_type": "code",
      "source": [
        "import pandas as pd\n",
        "from sklearn.feature_extraction.text import TfidfVectorizer\n",
        "from sklearn.cluster import KMeans\n",
        "import re\n",
        "import joblib\n",
        "\n",
        "# Step 1: Load and preprocess the test data\n",
        "log_data = pd.read_csv('https://raw.githubusercontent.com/divanshu1993/security-anomalies-samples/main/add_user_logs.csv')\n",
        "\n",
        "# Extract the log messages from the log_data DataFrame\n",
        "log_messages = log_data['message'].tolist()\n",
        "\n",
        "# Remove timestamp, [main], INFO, and file path from log messages\n",
        "cleaned_log_messages = []\n",
        "for log_message in log_messages:\n",
        "    cleaned_message = re.sub(r'\\d{4}-\\d{2}-\\d{2} \\d{2}:\\d{2}:\\d{2}\\.\\d+|\\[\\w+\\]|INFO|-\\s?[\\/\\w]+', '', log_message)\n",
        "    cleaned_log_messages.append(cleaned_message.strip())\n",
        "\n",
        "# Convert log messages to TF-IDF vectors\n",
        "vectorizer = TfidfVectorizer()\n",
        "X = vectorizer.fit_transform(cleaned_log_messages)\n",
        "\n",
        "# Apply K-means clustering for anomaly detection\n",
        "kmeans = KMeans(n_clusters=2)  # Assuming 2 clusters, one for normal data and one for anomalies\n",
        "kmeans.fit(X)\n",
        "\n",
        "# Save the trained K-means model\n",
        "joblib.dump(kmeans, \"saved_model.pkl\")\n",
        "\n",
        "print(\"Model saved successfully!\")\n"
      ],
      "metadata": {
        "colab": {
          "base_uri": "https://localhost:8080/"
        },
        "id": "PbPU7GKf5L8h",
        "outputId": "f2ce9e85-17ef-455d-e401-9bdb84562008"
      },
      "execution_count": 1,
      "outputs": [
        {
          "output_type": "stream",
          "name": "stderr",
          "text": [
            "/usr/local/lib/python3.10/dist-packages/sklearn/cluster/_kmeans.py:870: FutureWarning: The default value of `n_init` will change from 10 to 'auto' in 1.4. Set the value of `n_init` explicitly to suppress the warning\n",
            "  warnings.warn(\n"
          ]
        },
        {
          "output_type": "stream",
          "name": "stdout",
          "text": [
            "Model saved successfully!\n"
          ]
        }
      ]
    },
    {
      "cell_type": "code",
      "source": [
        "import pandas as pd\n",
        "import matplotlib.pyplot as plt\n",
        "from sklearn.feature_extraction.text import TfidfVectorizer\n",
        "from sklearn.ensemble import IsolationForest\n",
        "from sklearn.metrics import accuracy_score, precision_score, recall_score, f1_score\n",
        "import joblib\n",
        "import re\n",
        "\n",
        "# Step 4: Load and preprocess the data\n",
        "log_data = pd.read_csv('https://raw.githubusercontent.com/divanshu1993/security-anomalies-samples/main/add_user_logs.csv')\n",
        "# Preprocessing steps (if required)\n",
        "\n",
        "# Preprocess the log data and extract the log messages and labels\n",
        "log_messages = log_data['message'].tolist()\n",
        "labels = log_data['status'].tolist()\n",
        "\n",
        "# Remove timestamp, [main], INFO, and file path from log messages\n",
        "cleaned_log_messages = []\n",
        "for log_message in log_messages:\n",
        "    cleaned_message = re.sub(r'\\d{4}-\\d{2}-\\d{2} \\d{2}:\\d{2}:\\d{2}\\.\\d+|\\[\\w+\\]|INFO|-\\s?[\\/\\w]+', '', log_message)\n",
        "    cleaned_log_messages.append(cleaned_message.strip())\n",
        "\n",
        "# Convert log messages to TF-IDF vectors\n",
        "vectorizer = TfidfVectorizer()\n",
        "X = vectorizer.fit_transform(cleaned_log_messages)\n",
        "\n",
        "# Convert labels to numeric values (anomaly: -1, normal: 1)\n",
        "labels_numeric = [-1 if label == \"anomaly\" else 1 for label in labels]\n",
        "\n",
        "# Train the Isolation Forest model\n",
        "isolation_forest = IsolationForest(contamination=0.01)\n",
        "isolation_forest.fit(X)\n",
        "\n",
        "# Save the trained model\n",
        "model_file = 'anomaly_detection_model_isolation_forest.pkl'\n",
        "joblib.dump(isolation_forest, model_file)\n",
        "\n",
        "# Predict the anomaly scores for the log messages\n",
        "anomaly_scores = isolation_forest.decision_function(X)\n",
        "\n",
        "# Set a threshold for anomaly detection (you can adjust this as needed)\n",
        "threshold = 0\n",
        "\n",
        "# Determine the predicted labels (anomaly or normal)\n",
        "predicted_labels = [1 if score >= threshold else -1 for score in anomaly_scores]\n",
        "\n",
        "# Calculate evaluation metrics\n",
        "accuracy = accuracy_score(labels_numeric, predicted_labels)\n",
        "precision = precision_score(labels_numeric, predicted_labels, pos_label=-1)\n",
        "recall = recall_score(labels_numeric, predicted_labels, pos_label=-1)\n",
        "f1 = f1_score(labels_numeric, predicted_labels, pos_label=-1)\n",
        "\n",
        "# Plot the evaluation metrics\n",
        "metrics = ['Accuracy', 'Precision', 'Recall', 'F1 Score']\n",
        "scores = [accuracy, precision, recall, f1]\n",
        "\n",
        "# Define colors for each bar\n",
        "colors = ['blue', 'green', 'orange', 'red']\n",
        "\n",
        "print('accuracy: ', accuracy)\n",
        "print('precision: ', precision)\n",
        "print('recall: ', recall)\n",
        "print('f1 score: ', f1)\n",
        "\n",
        "plt.bar(metrics, scores, color=colors)\n",
        "plt.xlabel('Evaluation Metrics')\n",
        "plt.ylabel('Score')\n",
        "plt.title('Anomaly Detection Evaluation')\n",
        "plt.show()\n"
      ],
      "metadata": {
        "colab": {
          "base_uri": "https://localhost:8080/",
          "height": 543
        },
        "id": "0Fid1apn01BL",
        "outputId": "bab5e6e8-04f1-4767-c55a-441d83cd1904"
      },
      "execution_count": 3,
      "outputs": [
        {
          "output_type": "stream",
          "name": "stdout",
          "text": [
            "accuracy:  0.7688812732040398\n",
            "precision:  0.16839378238341968\n",
            "recall:  0.007517927365255609\n",
            "f1 score:  0.014393268379096545\n"
          ]
        },
        {
          "output_type": "display_data",
          "data": {
            "text/plain": [
              "<Figure size 640x480 with 1 Axes>"
            ],
            "image/png": "[encoded data removed]"
          },
          "metadata": {}
        }
      ]
    },
    {
      "cell_type": "code",
      "source": [
        "import pandas as pd\n",
        "import matplotlib.pyplot as plt\n",
        "from sklearn.feature_extraction.text import TfidfVectorizer\n",
        "from sklearn.svm import SVC\n",
        "from sklearn.metrics import accuracy_score, precision_score, recall_score, f1_score\n",
        "import joblib\n",
        "import re\n",
        "\n",
        "# Step 4: Load and preprocess the data\n",
        "log_data = pd.read_csv('https://raw.githubusercontent.com/divanshu1993/security-anomalies-samples/main/add_user_logs.csv')\n",
        "# Preprocessing steps (if required)\n",
        "\n",
        "# Preprocess the log data and extract the log messages and labels\n",
        "log_messages = log_data['message'].tolist()\n",
        "labels = log_data['status'].tolist()\n",
        "\n",
        "# Remove timestamp, [main], INFO, and file path from log messages\n",
        "cleaned_log_messages = []\n",
        "for log_message in log_messages:\n",
        "    cleaned_message = re.sub(r'\\d{4}-\\d{2}-\\d{2} \\d{2}:\\d{2}:\\d{2}\\.\\d+|\\[\\w+\\]|INFO|-\\s?[\\/\\w]+', '', log_message)\n",
        "    cleaned_log_messages.append(cleaned_message.strip())\n",
        "\n",
        "# Convert log messages to TF-IDF vectors\n",
        "vectorizer = TfidfVectorizer()\n",
        "X = vectorizer.fit_transform(cleaned_log_messages)\n",
        "\n",
        "# Convert labels to numeric values (anomaly: -1, normal: 1)\n",
        "labels_numeric = [-1 if label == \"anomaly\" else 1 for label in labels]\n",
        "\n",
        "# Train the SVM model\n",
        "svm_model = SVC(kernel='linear')\n",
        "svm_model.fit(X, labels_numeric)\n",
        "\n",
        "# Save the trained model\n",
        "model_file = 'anomaly_detection_model_svm.pkl'\n",
        "joblib.dump(svm_model, model_file)\n",
        "\n",
        "# Load the TfidfVectorizer and SVM model\n",
        "vectorizer = joblib.load(vectorizer_file)\n",
        "svm_model = joblib.load(model_file)\n",
        "\n",
        "# Preprocess the new input log message\n",
        "new_log_message = \"2023-02-26 08:34:36 [main] INFO com.example.UserService - Adding a new user: First Name='<script>', Last Name=qrewer, Email=ckanda@example.com, Age=19\"\n",
        "cleaned_new_log_message = re.sub(r'\\d{4}-\\d{2}-\\d{2} \\d{2}:\\d{2}:\\d{2}\\.\\d+|\\[\\w+\\]|INFO|-\\s?[\\/\\w]+', '', new_log_message)\n",
        "preprocessed_new_message = vectorizer.transform([cleaned_new_log_message])\n",
        "\n",
        "# Predict the label for the new log message\n",
        "predicted_label = svm_model.predict(preprocessed_new_message)\n",
        "\n",
        "# Print the predicted label\n",
        "if predicted_label == -1:\n",
        "    print(\"Anomaly\")\n",
        "else:\n",
        "    print(\"Normal\")\n"
      ],
      "metadata": {
        "colab": {
          "base_uri": "https://localhost:8080/"
        },
        "id": "THGJrpQk8O4n",
        "outputId": "43807872-986e-4e31-bc5b-f6bd7dd19358"
      },
      "execution_count": 20,
      "outputs": [
        {
          "output_type": "stream",
          "name": "stdout",
          "text": [
            "Normal\n"
          ]
        }
      ]
    },
    {
      "cell_type": "markdown",
      "source": [
        "## **Model Generation Using Isolation Forest Algo**"
      ],
      "metadata": {
        "id": "vCj-ghce6Mgb"
      }
    },
    {
      "cell_type": "code",
      "source": [
        "import pandas as pd\n",
        "from sklearn.feature_extraction.text import TfidfVectorizer\n",
        "from sklearn.ensemble import IsolationForest\n",
        "from joblib import dump\n",
        "import re\n",
        "\n",
        "# Step 1: Load and preprocess the training data\n",
        "log_data = pd.read_csv('https://raw.githubusercontent.com/divanshu1993/security-anomalies-samples/main/add_user_logs.csv')\n",
        "# Preprocessing steps (if required)\n",
        "\n",
        "# Preprocess the log data and extract the log messages\n",
        "log_messages = log_data['message'].tolist()\n",
        "\n",
        "# Skip rows with null first name and last name\n",
        "log_data = log_data[~(log_data['message'].astype(str).str.contains('First Name', case=False) & log_data['message'].astype(str).str.contains('null', case=False)) & ~(log_data['message'].astype(str).str.contains('Last Name', case=False) & log_data['message'].astype(str).str.contains('null', case=False))]\n",
        "\n",
        "# Remove timestamp, [main], INFO, and file path from log messages\n",
        "cleaned_log_messages = []\n",
        "for log_message in log_messages:\n",
        "    cleaned_message = re.sub(r'\\d{4}-\\d{2}-\\d{2} \\d{2}:\\d{2}:\\d{2}\\.\\d+|\\[\\w+\\]|INFO|-\\s?[\\/\\w]+', '', log_message)\n",
        "    cleaned_log_messages.append(cleaned_message.strip())\n",
        "\n",
        "# Convert log messages to TF-IDF vectors\n",
        "vectorizer = TfidfVectorizer()\n",
        "X = vectorizer.fit_transform(cleaned_log_messages)\n",
        "\n",
        "# Step 2: Train the Isolation Forest model\n",
        "isolation_forest = IsolationForest(contamination=0.01)\n",
        "isolation_forest.fit(X)\n",
        "\n",
        "# Step 3: Save the trained model to a file\n",
        "dump(isolation_forest, 'isolation_forest_model.joblib')\n",
        "print('Model is generated and saved')\n"
      ],
      "metadata": {
        "colab": {
          "base_uri": "https://localhost:8080/"
        },
        "id": "43mqk8M56RK2",
        "outputId": "e1d64c45-268a-4f0e-c43b-9d065c12e2fb"
      },
      "execution_count": 3,
      "outputs": [
        {
          "output_type": "stream",
          "name": "stdout",
          "text": [
            "Model is generated and saved\n"
          ]
        }
      ]
    }
  ]
}