{
  "nbformat": 4,
  "nbformat_minor": 0,
  "metadata": {
    "colab": {
      "provenance": [],
      "include_colab_link": true
    },
    "kernelspec": {
      "name": "python3",
      "display_name": "Python 3"
    },
    "language_info": {
      "name": "python"
    }
  },
  "cells": [
    {
      "cell_type": "markdown",
      "metadata": {
        "id": "view-in-github",
        "colab_type": "text"
      },
      "source": [
        "<a href=\"https://colab.research.google.com/github/divanshu1993/security-anomalies-samples/blob/main/script_security.ipynb\" target=\"_parent\"><img src=\"https://colab.research.google.com/assets/colab-badge.svg\" alt=\"Open In Colab\"/></a>"
      ]
    },
    {
      "cell_type": "markdown",
      "source": [
        "## **My First ML project**"
      ],
      "metadata": {
        "id": "zNuklwACNZo-"
      }
    },
    {
      "cell_type": "code",
      "source": [
        "import pandas as pd\n",
        "from sklearn.feature_extraction.text import TfidfVectorizer\n",
        "from sklearn.svm import SVC\n",
        "import joblib\n",
        "\n",
        "# Step 1: Load the CSV data\n",
        "data = pd.read_csv('https://raw.githubusercontent.com/divanshu1993/security-anomalies-samples/main/security%20anomalies%20threats%20samples.csv')\n",
        "\n",
        "# Step 2: Preprocess the data (if required)\n",
        "# For example, you may need to clean or normalize the text data\n",
        "\n",
        "# Step 3: Prepare the training data\n",
        "X_train = data['message'].str.lower().str.strip()\n",
        "y_train = data['status']\n",
        "\n",
        "# Step 4: Vectorize the training data\n",
        "vectorizer = TfidfVectorizer()\n",
        "X_train_vec = vectorizer.fit_transform(X_train)\n",
        "\n",
        "# Step 5: Train the SVM model\n",
        "svm = SVC()\n",
        "svm.fit(X_train_vec, y_train)\n",
        "\n",
        "# Step 6: Save the trained model and vectorizer for future use\n",
        "joblib.dump(svm, 'anomaly_detection_model.pkl')\n",
        "joblib.dump(vectorizer, 'vectorizer.pkl')"
      ],
      "metadata": {
        "id": "-tP6RwFomNj2",
        "colab": {
          "base_uri": "https://localhost:8080/"
        },
        "outputId": "a675d223-7489-4d30-88ca-93ca0e0b3086"
      },
      "execution_count": 4,
      "outputs": [
        {
          "output_type": "execute_result",
          "data": {
            "text/plain": [
              "['vectorizer.pkl']"
            ]
          },
          "metadata": {},
          "execution_count": 4
        }
      ]
    },
    {
      "cell_type": "markdown",
      "source": [
        "## **Test My New Generated Model**"
      ],
      "metadata": {
        "id": "aFyLsP8aiji1"
      }
    },
    {
      "cell_type": "code",
      "source": [
        "# Step 1: Install required libraries\n",
        "!pip install scikit-learn\n",
        "\n",
        "# Step 2: Import the necessary libraries\n",
        "import pandas as pd\n",
        "from sklearn.feature_extraction.text import TfidfVectorizer\n",
        "from sklearn.metrics import accuracy_score, precision_score, recall_score, f1_score\n",
        "import joblib\n",
        "from sklearn.metrics import classification_report\n",
        "\n",
        "\n",
        "# Step 3: Load the trained model and vectorizer\n",
        "vectorizer = joblib.load('vectorizer.pkl')\n",
        "svm = joblib.load('anomaly_detection_model.pkl')\n",
        "\n",
        "# Step 4: Load and preprocess the test data\n",
        "test_data = pd.read_csv('https://raw.githubusercontent.com/divanshu1993/security-anomalies-samples/main/sample_test_data.csv')\n",
        "# Preprocessing steps (if required)\n",
        "\n",
        "# Step 5: Prepare the data for testing\n",
        "X_test = test_data['message'].str.lower()\n",
        "\n",
        "# Step 6: Vectorize the new data using the loaded vectorizer\n",
        "X_new_vec = vectorizer.transform(X_test)\n",
        "\n",
        "# Step 7: Predict anomalies using the loaded model\n",
        "predictions = svm.predict(X_new_vec)\n",
        "\n",
        "\n",
        "# Step 8: Print the predictions\n",
        "print(\"Predictions:\", predictions)\n",
        "\n",
        "# Step 9: Calculate and print the F1-score\n",
        "true_labels = test_data['status']  # Replace 'true_label_column' with the actual column name of true labels\n",
        "print('labels : ', true_labels)\n",
        "report = classification_report(true_labels, predictions)\n",
        "print(\"Classification Report:\\n\", report)\n"
      ],
      "metadata": {
        "colab": {
          "base_uri": "https://localhost:8080/"
        },
        "id": "hDQiXwOXioDY",
        "outputId": "2656e87f-fc83-45d6-cb10-071dd1d8eee9"
      },
      "execution_count": 6,
      "outputs": [
        {
          "output_type": "stream",
          "name": "stdout",
          "text": [
            "Looking in indexes: https://pypi.org/simple, https://us-python.pkg.dev/colab-wheels/public/simple/\n",
            "Requirement already satisfied: scikit-learn in /usr/local/lib/python3.10/dist-packages (1.2.2)\n",
            "Requirement already satisfied: numpy>=1.17.3 in /usr/local/lib/python3.10/dist-packages (from scikit-learn) (1.22.4)\n",
            "Requirement already satisfied: scipy>=1.3.2 in /usr/local/lib/python3.10/dist-packages (from scikit-learn) (1.10.1)\n",
            "Requirement already satisfied: joblib>=1.1.1 in /usr/local/lib/python3.10/dist-packages (from scikit-learn) (1.2.0)\n",
            "Requirement already satisfied: threadpoolctl>=2.0.0 in /usr/local/lib/python3.10/dist-packages (from scikit-learn) (3.1.0)\n",
            "Predictions: ['SECURE' 'NON_SECURE' 'SECURE' 'SECURE']\n",
            "labels :  0        SECURE\n",
            "1    NON_SECURE\n",
            "2    NON_SECURE\n",
            "3        SECURE\n",
            "Name: status, dtype: object\n",
            "Classification Report:\n",
            "               precision    recall  f1-score   support\n",
            "\n",
            "  NON_SECURE       1.00      0.50      0.67         2\n",
            "      SECURE       0.67      1.00      0.80         2\n",
            "\n",
            "    accuracy                           0.75         4\n",
            "   macro avg       0.83      0.75      0.73         4\n",
            "weighted avg       0.83      0.75      0.73         4\n",
            "\n"
          ]
        }
      ]
    }
  ]
}