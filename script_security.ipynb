{
  "nbformat": 4,
  "nbformat_minor": 0,
  "metadata": {
    "colab": {
      "provenance": [],
      "authorship_tag": "ABX9TyMHR7u8M3u4vFAGLgQSV0SN",
      "include_colab_link": true
    },
    "kernelspec": {
      "name": "python3",
      "display_name": "Python 3"
    },
    "language_info": {
      "name": "python"
    }
  },
  "cells": [
    {
      "cell_type": "markdown",
      "metadata": {
        "id": "view-in-github",
        "colab_type": "text"
      },
      "source": [
        "<a href=\"https://colab.research.google.com/github/divanshu1993/security-anomalies-samples/blob/main/script_security.ipynb\" target=\"_parent\"><img src=\"https://colab.research.google.com/assets/colab-badge.svg\" alt=\"Open In Colab\"/></a>"
      ]
    },
    {
      "cell_type": "markdown",
      "source": [
        "## **My First ML project**"
      ],
      "metadata": {
        "id": "zNuklwACNZo-"
      }
    },
    {
      "cell_type": "code",
      "source": [],
      "metadata": {
        "id": "-tP6RwFomNj2"
      },
      "execution_count": null,
      "outputs": []
    },
    {
      "cell_type": "markdown",
      "source": [
        "# **Data Collector **"
      ],
      "metadata": {
        "id": "G7miHNO5NtC3"
      }
    },
    {
      "cell_type": "code",
      "source": [
        "import pandas as pd\n",
        "\n",
        "df2 = pd.read_csv('https://raw.githubusercontent.com/divanshu1993/security-anomalies-samples/main/security%20anomalies%20threats%20samples.csv');\n",
        "\n",
        "df2\n"
      ],
      "metadata": {
        "colab": {
          "base_uri": "https://localhost:8080/"
        },
        "id": "O1aYcQnY4ue6",
        "outputId": "14a97f0d-c412-49ec-90f1-30eda26a7a92"
      },
      "execution_count": 13,
      "outputs": [
        {
          "output_type": "execute_result",
          "data": {
            "text/plain": [
              "0    Bean 'postgresConfig' of type [ru.yandex.qatoo...\n",
              "1                home=177&id=1%27%20or%201=@@version--\n",
              "2          CONNECT 65.54.245.104:25 ­ NONE/­ text/html\n",
              "3                home=177&id=1%27%20or%201=@@version--\n",
              "4          CONNECT 65.54.245.104:25 ­ NONE/­ text/html\n",
              "Name: message, dtype: object"
            ]
          },
          "metadata": {},
          "execution_count": 13
        }
      ]
    },
    {
      "cell_type": "markdown",
      "source": [
        "Data Preprocessing"
      ],
      "metadata": {
        "id": "xLmC5krk5l2r"
      }
    },
    {
      "cell_type": "code",
      "source": [
        "df2['message'].isnull()"
      ],
      "metadata": {
        "id": "X8jzYbvyNW1w",
        "colab": {
          "base_uri": "https://localhost:8080/"
        },
        "outputId": "5dbd0cd5-01a3-4ec8-dd23-4869f48639ab"
      },
      "execution_count": 16,
      "outputs": [
        {
          "output_type": "execute_result",
          "data": {
            "text/plain": [
              "0    False\n",
              "1    False\n",
              "2    False\n",
              "3    False\n",
              "4    False\n",
              "Name: message, dtype: bool"
            ]
          },
          "metadata": {},
          "execution_count": 16
        }
      ]
    }
  ]
}