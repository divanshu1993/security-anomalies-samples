{
  "nbformat": 4,
  "nbformat_minor": 0,
  "metadata": {
    "colab": {
      "provenance": [],
      "authorship_tag": "ABX9TyNPb3oPI3gAru4ob25AxmO7",
      "include_colab_link": true
    },
    "kernelspec": {
      "name": "python3",
      "display_name": "Python 3"
    },
    "language_info": {
      "name": "python"
    }
  },
  "cells": [
    {
      "cell_type": "markdown",
      "metadata": {
        "id": "view-in-github",
        "colab_type": "text"
      },
      "source": [
        "<a href=\"https://colab.research.google.com/github/divanshu1993/security-anomalies-samples/blob/main/Model_Generation_Code.ipynb\" target=\"_parent\"><img src=\"https://colab.research.google.com/assets/colab-badge.svg\" alt=\"Open In Colab\"/></a>"
      ]
    },
    {
      "cell_type": "markdown",
      "source": [
        "## **Model Generation using Isolation Forest algo**"
      ],
      "metadata": {
        "id": "c3DwQT2V_O0n"
      }
    },
    {
      "cell_type": "code",
      "execution_count": null,
      "metadata": {
        "id": "3hPNmqNk-9ad"
      },
      "outputs": [],
      "source": [
        "import pandas as pd\n",
        "from sklearn.feature_extraction.text import TfidfVectorizer\n",
        "from sklearn.ensemble import IsolationForest\n",
        "import re\n",
        "import joblib\n",
        "\n",
        "# Step 1: Load and preprocess the test data\n",
        "log_data = pd.read_csv('https://raw.githubusercontent.com/divanshu1993/security-anomalies-samples/main/add_user_logs.csv')\n",
        "\n",
        "# Extract the log messages from the log_data DataFrame\n",
        "log_messages = log_data['message'].tolist()\n",
        "\n",
        "# Remove timestamp, [main], INFO, and file path from log messages\n",
        "cleaned_log_messages = []\n",
        "for log_message in log_messages:\n",
        "    cleaned_message = re.sub(r'\\d{4}-\\d{2}-\\d{2} \\d{2}:\\d{2}:\\d{2}\\.\\d+|\\[\\w+\\]|INFO|-\\s?[\\/\\w]+', '', log_message)\n",
        "    cleaned_log_messages.append(cleaned_message.strip())\n",
        "\n",
        "# Convert log messages to TF-IDF vectors\n",
        "vectorizer = TfidfVectorizer()\n",
        "X = vectorizer.fit_transform(cleaned_log_messages)\n",
        "\n",
        "# Apply Isolation Forest for anomaly detection\n",
        "isolation_forest = IsolationForest(contamination=0.01)\n",
        "isolation_forest.fit(X)\n",
        "\n",
        "# Save the trained Isolation Forest model\n",
        "joblib.dump(isolation_forest, \"isolation_forest_model.pkl\")\n",
        "\n",
        "print(\"Model saved successfully!\")\n"
      ]
    },
    {
      "cell_type": "markdown",
      "source": [
        "## **Model Generation using KNN algo**"
      ],
      "metadata": {
        "id": "Qq-Iiprj_SiS"
      }
    },
    {
      "cell_type": "code",
      "source": [
        "import pandas as pd\n",
        "from sklearn.feature_extraction.text import TfidfVectorizer\n",
        "from sklearn.neighbors import NearestNeighbors\n",
        "import re\n",
        "import joblib\n",
        "\n",
        "# Step 1: Load and preprocess the test data\n",
        "log_data = pd.read_csv('https://raw.githubusercontent.com/divanshu1993/security-anomalies-samples/main/add_user_logs.csv')\n",
        "\n",
        "# Extract the log messages from the log_data DataFrame\n",
        "log_messages = log_data['message'].tolist()\n",
        "\n",
        "# Remove timestamp, [main], INFO, and file path from log messages\n",
        "cleaned_log_messages = []\n",
        "for log_message in log_messages:\n",
        "    cleaned_message = re.sub(r'\\d{4}-\\d{2}-\\d{2} \\d{2}:\\d{2}:\\d{2}\\.\\d+|\\[\\w+\\]|INFO|-\\s?[\\/\\w]+', '', log_message)\n",
        "    cleaned_log_messages.append(cleaned_message.strip())\n",
        "\n",
        "# Convert log messages to TF-IDF vectors\n",
        "vectorizer = TfidfVectorizer()\n",
        "X = vectorizer.fit_transform(cleaned_log_messages)\n",
        "\n",
        "# Apply K-nearest neighbors for anomaly detection\n",
        "k = 5  # Number of neighbors\n",
        "knn = NearestNeighbors(n_neighbors=k)\n",
        "knn.fit(X)\n",
        "\n",
        "# Save the trained K-nearest neighbors model\n",
        "joblib.dump(knn, \"knn_model.pkl\")\n",
        "\n",
        "print(\"Model saved successfully!\")\n"
      ],
      "metadata": {
        "id": "GDEJAB2u_Spm"
      },
      "execution_count": null,
      "outputs": []
    },
    {
      "cell_type": "markdown",
      "source": [
        "## **Model Generation using OCSVM algo**"
      ],
      "metadata": {
        "id": "9gQeD9Wc_Szl"
      }
    },
    {
      "cell_type": "code",
      "source": [
        "import pandas as pd\n",
        "from sklearn.feature_extraction.text import TfidfVectorizer\n",
        "from sklearn.svm import OneClassSVM\n",
        "import re\n",
        "import joblib\n",
        "\n",
        "# Step 1: Load and preprocess the test data\n",
        "log_data = pd.read_csv('https://raw.githubusercontent.com/divanshu1993/security-anomalies-samples/main/add_user_logs.csv')\n",
        "\n",
        "# Extract the log messages from the log_data DataFrame\n",
        "log_messages = log_data['message'].tolist()\n",
        "\n",
        "# Remove timestamp, [main], INFO, and file path from log messages\n",
        "cleaned_log_messages = []\n",
        "for log_message in log_messages:\n",
        "    cleaned_message = re.sub(r'\\d{4}-\\d{2}-\\d{2} \\d{2}:\\d{2}:\\d{2}\\.\\d+|\\[\\w+\\]|INFO|-\\s?[\\/\\w]+', '', log_message)\n",
        "    cleaned_log_messages.append(cleaned_message.strip())\n",
        "\n",
        "# Convert log messages to TF-IDF vectors\n",
        "vectorizer = TfidfVectorizer()\n",
        "X = vectorizer.fit_transform(cleaned_log_messages)\n",
        "\n",
        "# Apply One-Class Support Vector Machines for anomaly detection\n",
        "ocsvm = OneClassSVM(nu=0.01)\n",
        "ocsvm.fit(X)\n",
        "\n",
        "# Save the trained One-Class SVM model\n",
        "joblib.dump(ocsvm, \"ocsvm_model.pkl\")\n",
        "\n",
        "print(\"Model saved successfully!\")\n"
      ],
      "metadata": {
        "id": "6uu4xkXI_S75"
      },
      "execution_count": null,
      "outputs": []
    }
  ]
}