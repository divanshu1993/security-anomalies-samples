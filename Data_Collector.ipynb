{
  "nbformat": 4,
  "nbformat_minor": 0,
  "metadata": {
    "colab": {
      "provenance": [],
      "authorship_tag": "ABX9TyOJOjhwUpXplLI56+lWQglf",
      "include_colab_link": true
    },
    "kernelspec": {
      "name": "python3",
      "display_name": "Python 3"
    },
    "language_info": {
      "name": "python"
    }
  },
  "cells": [
    {
      "cell_type": "markdown",
      "metadata": {
        "id": "view-in-github",
        "colab_type": "text"
      },
      "source": [
        "<a href=\"https://colab.research.google.com/github/divanshu1993/security-anomalies-samples/blob/main/Data_Collector.ipynb\" target=\"_parent\"><img src=\"https://colab.research.google.com/assets/colab-badge.svg\" alt=\"Open In Colab\"/></a>"
      ]
    },
    {
      "cell_type": "markdown",
      "source": [
        "Preparation of data with security preparation "
      ],
      "metadata": {
        "id": "wQnTI631_8EE"
      }
    },
    {
      "cell_type": "code",
      "execution_count": null,
      "metadata": {
        "id": "Jzamxy3m_ucY"
      },
      "outputs": [],
      "source": [
        "!pip install faker\n",
        "import csv\n",
        "from faker import Faker\n",
        "import random\n",
        "\n",
        "fake = Faker('en_IN')\n",
        "\n",
        "# Open the CSV file in write mode\n",
        "with open('add_user_logs.csv', mode='w', newline='') as file:\n",
        "    writer = csv.writer(file)\n",
        "    writer.writerow([\"message\", \"status\"])  # Add the \"status\" column header\n",
        "    for _ in range(38517):\n",
        "        date_time = fake.date_time_this_year()\n",
        "        # Generate empty first name for some entries\n",
        "        if random.random() <= 0.1:  # Adjust the probability as needed\n",
        "            first_name = 'null'\n",
        "        else:\n",
        "            first_name = fake.first_name()\n",
        "        \n",
        "        # Generate last name with <script></script> tags for some entries\n",
        "        if random.random() <= 0.1:  # Adjust the probability as needed\n",
        "            last_name = 'null'\n",
        "        elif random.random() <= 0.2:  # Adjust the probability as needed\n",
        "            last_name = 'CONNECT 172.65.27.22 HOME'\n",
        "        elif random.random() <= 0.1:  # Adjust the probability as needed\n",
        "            last_name = '<IMG src=\"..\"/>'\n",
        "        else:\n",
        "            last_name = fake.last_name()\n",
        "\n",
        "        if random.random() <= 0.1:  # Adjust the probability as needed\n",
        "            last_name = 'null'\n",
        "            first_name = 'null'\n",
        "\n",
        "\n",
        "        email = fake.email()\n",
        "        age = fake.random_int(min=18, max=70)\n",
        "        log_entry = f\"{date_time} [main] INFO com.example.UserService - Adding a new user: First Name={first_name}, Last Name={last_name}, Email={email}, Age={age}\"\n",
        "        \n",
        "        # Determine the status based on the conditions\n",
        "        if \"<IMG\" in last_name or \"CONNECT\" in last_name:\n",
        "            status = \"anomaly\"\n",
        "        else:\n",
        "            status = \"normal\"\n",
        "        \n",
        "        # Write the log entry and status as a row in the CSV file\n",
        "        writer.writerow([log_entry, status])\n",
        "\n",
        "# Print a message to indicate that the CSV file has been generated\n",
        "print(\"CSV file generated successfully!\")\n"
      ]
    }
  ]
}